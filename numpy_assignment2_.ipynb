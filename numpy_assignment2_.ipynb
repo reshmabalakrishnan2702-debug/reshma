{
  "nbformat": 4,
  "nbformat_minor": 0,
  "metadata": {
    "colab": {
      "provenance": []
    },
    "kernelspec": {
      "name": "python3",
      "display_name": "Python 3"
    },
    "language_info": {
      "name": "python"
    }
  },
  "cells": [
    {
      "cell_type": "code",
      "execution_count": null,
      "metadata": {
        "id": "RVWQZxoDpLJl"
      },
      "outputs": [],
      "source": []
    },
    {
      "cell_type": "code",
      "source": [
        "import numpy as np\n",
        "arr=np.arange(1,21)# inserting elements 1 to 20 to the array\n",
        "new_arr=arr[1::3]#extracting only the numbers in the 3rd place from first to a new array\n",
        "#print both arrays\n",
        "print(\"original array\",arr)\n",
        "print(\"\\n\")\n",
        "print(\"new array\",new_arr)"
      ],
      "metadata": {
        "colab": {
          "base_uri": "https://localhost:8080/"
        },
        "id": "LT5wR9rGsCcK",
        "outputId": "438b6cb9-442e-47ba-b073-a5c260a1b878"
      },
      "execution_count": null,
      "outputs": [
        {
          "output_type": "stream",
          "name": "stdout",
          "text": [
            "original array [ 1  2  3  4  5  6  7  8  9 10 11 12 13 14 15 16 17 18 19 20]\n",
            "\n",
            "\n",
            "new array [ 2  5  8 11 14 17 20]\n"
          ]
        }
      ]
    }
  ]
}