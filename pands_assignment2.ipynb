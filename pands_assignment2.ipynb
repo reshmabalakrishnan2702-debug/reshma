{
  "nbformat": 4,
  "nbformat_minor": 0,
  "metadata": {
    "colab": {
      "provenance": []
    },
    "kernelspec": {
      "name": "python3",
      "display_name": "Python 3"
    },
    "language_info": {
      "name": "python"
    }
  },
  "cells": [
    {
      "cell_type": "code",
      "execution_count": null,
      "metadata": {
        "colab": {
          "base_uri": "https://localhost:8080/"
        },
        "id": "c_2PHUMCy31h",
        "outputId": "1bb342d3-1a4a-4d5c-d30f-af80eecbd845"
      },
      "outputs": [
        {
          "output_type": "stream",
          "name": "stdout",
          "text": [
            "     sepal_length  sepal_width  petal_length  petal_width    species  \\\n",
            "0             5.1          3.5           1.4          0.2     setosa   \n",
            "1             4.9          3.0           1.4          0.2     setosa   \n",
            "2             4.7          3.2           1.3          0.2     setosa   \n",
            "3             4.6          3.1           1.5          0.2     setosa   \n",
            "4             5.0          3.6           1.4          0.2     setosa   \n",
            "..            ...          ...           ...          ...        ...   \n",
            "145           6.7          3.0           5.2          2.3  virginica   \n",
            "146           6.3          2.5           5.0          1.9  virginica   \n",
            "147           6.5          3.0           5.2          2.0  virginica   \n",
            "148           6.2          3.4           5.4          2.3  virginica   \n",
            "149           5.9          3.0           5.1          1.8  virginica   \n",
            "\n",
            "     petal_ratio  \n",
            "0       7.000000  \n",
            "1       7.000000  \n",
            "2       6.500000  \n",
            "3       7.500000  \n",
            "4       7.000000  \n",
            "..           ...  \n",
            "145     2.260870  \n",
            "146     2.631579  \n",
            "147     2.600000  \n",
            "148     2.347826  \n",
            "149     2.833333  \n",
            "\n",
            "[150 rows x 6 columns]\n",
            "    sepal_length  sepal_width  petal_length  petal_width species  petal_ratio\n",
            "9            4.9          3.1           1.5          0.1  setosa         15.0\n",
            "32           5.2          4.1           1.5          0.1  setosa         15.0\n",
            "37           4.9          3.6           1.4          0.1  setosa         14.0\n",
            "12           4.8          3.0           1.4          0.1  setosa         14.0\n",
            "13           4.3          3.0           1.1          0.1  setosa         11.0\n"
          ]
        }
      ],
      "source": [
        "import matplotlib.pyplot as plt\n",
        "import seaborn as sns\n",
        "data=sns.load_dataset(\"iris\")\n",
        "data[\"petal_ratio\"]= data[\"petal_length\"]/data[\"petal_width\"]\n",
        "print(data)\n",
        "first5=data.sort_values(by=\"petal_ratio\",ascending=False).head(5)\n",
        "print(first5)"
      ]
    }
  ]
}