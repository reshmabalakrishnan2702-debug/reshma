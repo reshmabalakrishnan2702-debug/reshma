{
  "nbformat": 4,
  "nbformat_minor": 0,
  "metadata": {
    "colab": {
      "provenance": []
    },
    "kernelspec": {
      "name": "python3",
      "display_name": "Python 3"
    },
    "language_info": {
      "name": "python"
    }
  },
  "cells": [
    {
      "cell_type": "code",
      "execution_count": null,
      "metadata": {
        "colab": {
          "base_uri": "https://localhost:8080/"
        },
        "id": "Qgzta02dtsKL",
        "outputId": "478c16b8-918d-4daf-e6ec-60f00d5dc6c6"
      },
      "outputs": [
        {
          "output_type": "stream",
          "name": "stdout",
          "text": [
            "First 10 rows in the data\n",
            "   sepal_length  sepal_width  petal_length  petal_width species\n",
            "0           5.1          3.5           1.4          0.2  setosa\n",
            "1           4.9          3.0           1.4          0.2  setosa\n",
            "2           4.7          3.2           1.3          0.2  setosa\n",
            "3           4.6          3.1           1.5          0.2  setosa\n",
            "4           5.0          3.6           1.4          0.2  setosa\n",
            "5           5.4          3.9           1.7          0.4  setosa\n",
            "6           4.6          3.4           1.4          0.3  setosa\n",
            "7           5.0          3.4           1.5          0.2  setosa\n",
            "8           4.4          2.9           1.4          0.2  setosa\n",
            "9           4.9          3.1           1.5          0.1  setosa\n",
            "Basic statistics\n",
            "       sepal_length  sepal_width  petal_length  petal_width\n",
            "count    150.000000   150.000000    150.000000   150.000000\n",
            "mean       5.843333     3.057333      3.758000     1.199333\n",
            "std        0.828066     0.435866      1.765298     0.762238\n",
            "min        4.300000     2.000000      1.000000     0.100000\n",
            "25%        5.100000     2.800000      1.600000     0.300000\n",
            "50%        5.800000     3.000000      4.350000     1.300000\n",
            "75%        6.400000     3.300000      5.100000     1.800000\n",
            "max        7.900000     4.400000      6.900000     2.500000\n",
            "Filtered data\n",
            "    sepal_length  sepal_width  petal_length  petal_width     species\n",
            "50           7.0          3.2           4.7          1.4  versicolor\n",
            "51           6.4          3.2           4.5          1.5  versicolor\n",
            "52           6.9          3.1           4.9          1.5  versicolor\n",
            "54           6.5          2.8           4.6          1.5  versicolor\n",
            "56           6.3          3.3           4.7          1.6  versicolor\n",
            "58           6.6          2.9           4.6          1.3  versicolor\n",
            "61           5.9          3.0           4.2          1.5  versicolor\n",
            "62           6.0          2.2           4.0          1.0  versicolor\n",
            "63           6.1          2.9           4.7          1.4  versicolor\n",
            "65           6.7          3.1           4.4          1.4  versicolor\n",
            "68           6.2          2.2           4.5          1.5  versicolor\n",
            "70           5.9          3.2           4.8          1.8  versicolor\n",
            "71           6.1          2.8           4.0          1.3  versicolor\n",
            "72           6.3          2.5           4.9          1.5  versicolor\n",
            "73           6.1          2.8           4.7          1.2  versicolor\n",
            "74           6.4          2.9           4.3          1.3  versicolor\n",
            "75           6.6          3.0           4.4          1.4  versicolor\n",
            "76           6.8          2.8           4.8          1.4  versicolor\n",
            "77           6.7          3.0           5.0          1.7  versicolor\n",
            "78           6.0          2.9           4.5          1.5  versicolor\n",
            "83           6.0          2.7           5.1          1.6  versicolor\n",
            "85           6.0          3.4           4.5          1.6  versicolor\n",
            "86           6.7          3.1           4.7          1.5  versicolor\n",
            "87           6.3          2.3           4.4          1.3  versicolor\n",
            "91           6.1          3.0           4.6          1.4  versicolor\n",
            "97           6.2          2.9           4.3          1.3  versicolor\n"
          ]
        }
      ],
      "source": [
        "import matplotlib.pyplot as plt\n",
        "import seaborn as sns\n",
        "data=sns.load_dataset(\"iris\")\n",
        "print(\"First 10 rows in the data\")\n",
        "print(data.head(10))\n",
        "print(\"Basic statistics\")\n",
        "print(data.describe())\n",
        "sep_median=data[\"sepal_length\"].median()\n",
        "filter_data=data[(data[\"sepal_length\"]>sep_median) & (data[\"species\"] == \"versicolor\")]\n",
        "print(\"Filtered data\")\n",
        "print(filter_data)"
      ]
    }
  ]
}