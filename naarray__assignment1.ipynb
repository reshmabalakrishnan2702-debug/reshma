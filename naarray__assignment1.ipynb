{
  "nbformat": 4,
  "nbformat_minor": 0,
  "metadata": {
    "colab": {
      "provenance": []
    },
    "kernelspec": {
      "name": "python3",
      "display_name": "Python 3"
    },
    "language_info": {
      "name": "python"
    }
  },
  "cells": [
    {
      "cell_type": "code",
      "execution_count": null,
      "metadata": {
        "colab": {
          "base_uri": "https://localhost:8080/"
        },
        "id": "rgzCYWoegUhr",
        "outputId": "3070bae7-64d4-4739-ed56-e13e9a4ab9da"
      },
      "outputs": [
        {
          "output_type": "stream",
          "name": "stdout",
          "text": [
            "[[46 15 33 29  4]\n",
            " [46 50 30 10 47]\n",
            " [39  2  6 43  1]\n",
            " [37 29 21 25 37]\n",
            " [ 7 29 20 37  5]]\n",
            "sum of each row is [127 183  91 149  98]\n",
            "Maximum_eachRow   183\n",
            "After replacing_mean\n",
            "[[ 0 15  0  0  4]\n",
            " [ 0  0  0 10  0]\n",
            " [ 0  2  6  0  1]\n",
            " [ 0  0 21 25  0]\n",
            " [ 7  0 20  0  5]]\n"
          ]
        }
      ],
      "source": [
        "#prgm for creating a\n",
        "import numpy as np\n",
        "import time\n",
        "num_arr=np.random.randint(1,51,size=(5,5)) #taking random numbers from 1 to 50 to an array of size 5,5\n",
        "print(num_arr)\n",
        "mean_val=num_arr.mean()#finding the mean of the array\n",
        "rsum=num_arr.sum(axis=1)#finding the sum of each row and storing it into an array\n",
        "\n",
        "print (f\"sum of each row is {rsum}\")\n",
        "maxsum=rsum.max()#finding the maximum value from array of row total\n",
        "print(f\"Maximum_eachRow   {maxsum}\")\n",
        "\n",
        "num_arr[num_arr>mean_val]=0 #replacing elements whose value more tha mean with 0\n",
        "print(\"After replacing_mean\"  )\n",
        "time.sleep(1)\n",
        "print(num_arr)"
      ]
    }
  ]
}